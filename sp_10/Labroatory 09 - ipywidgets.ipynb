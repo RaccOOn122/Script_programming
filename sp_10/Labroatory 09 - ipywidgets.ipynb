{
 "cells": [
  {
   "cell_type": "markdown",
   "metadata": {},
   "source": [
    "# Script programming (laboratory 09)\n",
    "\n",
    "## Ipywidgets\n",
    "\n",
    "### Submission\n",
    "\n",
    "<u>Submission:</u>\n",
    "\n",
    "Compress all files into **single zip** archive and submit via Wikamp. See below the content of the archive (replace the `name` and `surname` with proper values):\n",
    "```\n",
    "📂 name.surname.zip\n",
    "+-- 📜 Labroatory 09 - ipywidgets.ipynb\n",
    "\n",
    "```\n",
    "\n",
    "<u>Grades</u>\n",
    "\n",
    "| Number of points | mark |\n",
    "| :----            | ---: |\n",
    "| <5               | 2    |\n",
    "| 5                | 3    |\n",
    "| 6-7              | 3.5  |\n",
    "| 8                | 4    |\n",
    "| 9-10             | 4.5  |\n",
    "| 11               | 5    |\n",
    "\n",
    "<u>Penalties</u>\n",
    "\n",
    "* `mark - 0.5` if tasks are submitted next day (but less than 7 days); \n",
    "* `mark - 1` if tasks are submitted after one week (>=7 days but < 14 days);\n",
    "* `mark - 1.5` if tasks are submitted later than two weeks (>=14 days) but less than a month.\n",
    "* `mark = 2` if tasks are submitted a month after the laboratory (or does not at all).\n",
    "\n",
    "<u>Warning:</u>\n",
    "\n",
    "It is NOT allowed to share your `.ipynb` file with other students nor Internet. All students should download the exercise files directly from WIKAMP. Group work is considered as plagiarism.\n",
    "\n",
    "<u>Plagiarism Disclaimer:</u>\n",
    "\n",
    "I hereby declare that this exercise is my own and autonomous work. I am aware of the consequences and I am familiar with the university regulations.\n"
   ]
  },
  {
   "cell_type": "markdown",
   "metadata": {},
   "source": [
    "### Task 1. Sliders\n",
    "Create two Sliders with values in the range between 1 and 100, and then (in separate cell) calculate the sum of chosen values and print the result."
   ]
  },
  {
   "cell_type": "code",
   "execution_count": 9,
   "metadata": {},
   "outputs": [],
   "source": [
    "# >>> WRITE YOUR SOLUTION HERE <<<\n",
    "import ipywidgets as widgets\n",
    "from IPython.display import display"
   ]
  },
  {
   "cell_type": "code",
   "execution_count": 10,
   "metadata": {},
   "outputs": [
    {
     "data": {
      "application/vnd.jupyter.widget-view+json": {
       "model_id": "fd7d1a00aa284a4cb4777ea5b9342b15",
       "version_major": 2,
       "version_minor": 0
      },
      "text/plain": [
       "IntSlider(value=1, min=1)"
      ]
     },
     "metadata": {},
     "output_type": "display_data"
    },
    {
     "data": {
      "application/vnd.jupyter.widget-view+json": {
       "model_id": "a5d449e90b2e4d08b2c3b3ba737a4c86",
       "version_major": 2,
       "version_minor": 0
      },
      "text/plain": [
       "IntSlider(value=1, min=1)"
      ]
     },
     "metadata": {},
     "output_type": "display_data"
    }
   ],
   "source": [
    "w1=widgets.IntSlider(min=1,max=100)\n",
    "w2=widgets.IntSlider(min=1,max=100)\n",
    "display(w1,w2)\n"
   ]
  },
  {
   "cell_type": "code",
   "execution_count": 6,
   "metadata": {},
   "outputs": [
    {
     "data": {
      "text/plain": [
       "58"
      ]
     },
     "execution_count": 6,
     "metadata": {},
     "output_type": "execute_result"
    }
   ],
   "source": [
    "w1.value"
   ]
  },
  {
   "cell_type": "code",
   "execution_count": null,
   "metadata": {},
   "outputs": [],
   "source": [
    "# >>> WRITE YOUR SOLUTION HERE <<<"
   ]
  },
  {
   "cell_type": "markdown",
   "metadata": {},
   "source": [
    "### Task 2. Calculator\n",
    "\n",
    "1. Create two Sliders (values between 1 and 10), Label, Button, and Dropdown object with four options:\n",
    "    * Add\n",
    "    * Subtract\n",
    "    * Multiply\n",
    "    * Divide\n",
    "2. Add `click` method to Button that calculates the result of the chosen operation for given numbers.\n",
    "\n",
    "Expected result:\n",
    "<img style=\"height:130pt\" src=\"Task 2.png\" />"
   ]
  },
  {
   "cell_type": "code",
   "execution_count": null,
   "metadata": {},
   "outputs": [],
   "source": [
    "# >>> WRITE YOUR SOLUTION HERE <<<\n"
   ]
  },
  {
   "cell_type": "code",
   "execution_count": 12,
   "metadata": {},
   "outputs": [
    {
     "data": {
      "application/vnd.jupyter.widget-view+json": {
       "model_id": "17b7aa7265aa4fa4af6a59f065b1a328",
       "version_major": 2,
       "version_minor": 0
      },
      "text/plain": [
       "Dropdown(options=('Option1', 'Option2'), value='Option1')"
      ]
     },
     "metadata": {},
     "output_type": "display_data"
    }
   ],
   "source": [
    "w=widgets.Dropdown(options=['Option1','Option2'])\n",
    "display(w)"
   ]
  },
  {
   "cell_type": "code",
   "execution_count": 14,
   "metadata": {},
   "outputs": [
    {
     "data": {
      "text/plain": [
       "'Option1'"
      ]
     },
     "execution_count": 14,
     "metadata": {},
     "output_type": "execute_result"
    }
   ],
   "source": [
    "w.value"
   ]
  },
  {
   "cell_type": "code",
   "execution_count": 23,
   "metadata": {},
   "outputs": [
    {
     "data": {
      "application/vnd.jupyter.widget-view+json": {
       "model_id": "fd7d1a00aa284a4cb4777ea5b9342b15",
       "version_major": 2,
       "version_minor": 0
      },
      "text/plain": [
       "IntSlider(value=38, min=1)"
      ]
     },
     "metadata": {},
     "output_type": "display_data"
    },
    {
     "data": {
      "application/vnd.jupyter.widget-view+json": {
       "model_id": "a5d449e90b2e4d08b2c3b3ba737a4c86",
       "version_major": 2,
       "version_minor": 0
      },
      "text/plain": [
       "IntSlider(value=67, min=1)"
      ]
     },
     "metadata": {},
     "output_type": "display_data"
    },
    {
     "data": {
      "application/vnd.jupyter.widget-view+json": {
       "model_id": "491bf8f504ef4099960b1621253824a2",
       "version_major": 2,
       "version_minor": 0
      },
      "text/plain": [
       "Button(description='OK', style=ButtonStyle())"
      ]
     },
     "metadata": {},
     "output_type": "display_data"
    },
    {
     "data": {
      "application/vnd.jupyter.widget-view+json": {
       "model_id": "a2323ece268b43ff837762ca6b0a6aaa",
       "version_major": 2,
       "version_minor": 0
      },
      "text/plain": [
       "Label(value='Label')"
      ]
     },
     "metadata": {},
     "output_type": "display_data"
    }
   ],
   "source": [
    "l=widgets.Label(value='Label')\n",
    "b=widgets.Button(description='OK')\n",
    "\n",
    "def on_click():\n",
    "    l.value='NEW'\n",
    "b.click=on_click\n",
    "display(w1,w2,b,l)"
   ]
  },
  {
   "cell_type": "code",
   "execution_count": null,
   "metadata": {},
   "outputs": [],
   "source": []
  },
  {
   "cell_type": "code",
   "execution_count": null,
   "metadata": {},
   "outputs": [],
   "source": []
  },
  {
   "cell_type": "code",
   "execution_count": null,
   "metadata": {},
   "outputs": [],
   "source": []
  },
  {
   "cell_type": "markdown",
   "metadata": {},
   "source": [
    "### Task 3. BMI\n",
    "Create a program that calculates the Body mass index (BMI).\n",
    "The program should:\n",
    "* contain Two sliders (for weight and height),\n",
    "* display the value in two decimal places,\n",
    "* display the category,\n",
    "* present the category in <span style=\"color:red\">c</span>\n",
    "<span style=\"color:orange\">o</span>\n",
    "<span style=\"color:#fd0\">l</span>\n",
    "<span style=\"color:green\">o</span>\n",
    "<span style=\"color:#fd0\">r</span>\n",
    "<span style=\"color:orange\">s</span> (for example: red, orange, green, etc.),\n",
    "* the colors should be informative, i.e. red means the result is critical and green means all is fine,\n",
    "* the result should update automatically when changing the values of weight/height.\n",
    "\n",
    "\n",
    "\n",
    "Formula:\n",
    "$$\n",
    "\\texttt{BMI} = \\frac{\\texttt{mass}_{\\texttt{kg}}}{\\texttt{height}_{\\texttt{m}}^2}\n",
    "$$\n",
    "\n",
    "Use below table as the reference:\n",
    "\n",
    "| Category                            | from | to   |\n",
    "| :---                                | :--- | :--- |\n",
    "| Very severely underweight           | -    | 15   |\n",
    "| Severely underweight                | 15   | 16   |\n",
    "| Underweight                         | 16   | 18.5 |\n",
    "| Normal (healthy weight)             | 18.5 | 25   |\n",
    "| Overweight                          | 25   | 30   |\n",
    "| Obese Class I (Moderately obese)    | 30   | 35   |\n",
    "| Obese Class II (Severely obese)     | 35   | 40   |\n",
    "| Obese Class III (Very severely obese)|40   | -    |\n",
    "\n",
    "\n",
    "Tips:\n",
    "* `observe` method can be used to update the results\n",
    "* to display colors the `HTML` widget can be used_\n",
    "\n",
    "\n",
    "Expected result:\n",
    "<img style=\"height:130pt\" src=\"Task 3.png\" />\n"
   ]
  },
  {
   "cell_type": "code",
   "execution_count": null,
   "metadata": {},
   "outputs": [],
   "source": [
    "# >>> WRITE YOUR SOLUTION HERE <<<"
   ]
  },
  {
   "cell_type": "code",
   "execution_count": null,
   "metadata": {},
   "outputs": [],
   "source": [
    "w1=widgets.IntSliders(min=1,max=100)\n",
    "w2=widgets.IntSliders(min=1,max=100)\n",
    "\n",
    "display(w1,w2)"
   ]
  },
  {
   "cell_type": "code",
   "execution_count": 30,
   "metadata": {},
   "outputs": [
    {
     "data": {
      "application/vnd.jupyter.widget-view+json": {
       "model_id": "59ea4a441016407ab174e45da74f302f",
       "version_major": 2,
       "version_minor": 0
      },
      "text/plain": [
       "IntSlider(value=1, min=1)"
      ]
     },
     "metadata": {},
     "output_type": "display_data"
    },
    {
     "data": {
      "application/vnd.jupyter.widget-view+json": {
       "model_id": "3676692e08c745c5a85bb5e7f84526dc",
       "version_major": 2,
       "version_minor": 0
      },
      "text/plain": [
       "Label(value='Label')"
      ]
     },
     "metadata": {},
     "output_type": "display_data"
    }
   ],
   "source": [
    "l1=widgets.Label(value='Label')\n",
    "s=widgets.IntSlider(min=1,max=100)\n",
    "\n",
    "def on_change(value):\n",
    "    l1.value=f'The slider value is {value.new}'\n",
    "s.observe(on_change, names='value')\n",
    "display(s,l1)"
   ]
  },
  {
   "cell_type": "code",
   "execution_count": null,
   "metadata": {},
   "outputs": [],
   "source": []
  },
  {
   "cell_type": "markdown",
   "metadata": {},
   "source": [
    "### Task 4. Quadratic function\n",
    "1. Implement function that plots the chart of the quadratic function.\n",
    "2. Use `interactive` function to update the chart using sliders to change: `a`, `b`, `c`.\n",
    "\n",
    "Expected result:\n",
    "<img style=\"height:170pt\" src=\"Task 4.gif\" />"
   ]
  },
  {
   "cell_type": "code",
   "execution_count": null,
   "metadata": {},
   "outputs": [],
   "source": [
    "# >>> WRITE YOUR SOLUTION HERE <<<"
   ]
  },
  {
   "cell_type": "code",
   "execution_count": null,
   "metadata": {},
   "outputs": [],
   "source": []
  }
 ],
 "metadata": {
  "author": {
   "email": [
    "robert.susik@p.lodz.pl",
    "robert.susik@gmail.com"
   ],
   "name": "Robert Susik"
  },
  "kernelspec": {
   "display_name": "Python 3",
   "language": "python",
   "name": "python3"
  },
  "language_info": {
   "codemirror_mode": {
    "name": "ipython",
    "version": 3
   },
   "file_extension": ".py",
   "mimetype": "text/x-python",
   "name": "python",
   "nbconvert_exporter": "python",
   "pygments_lexer": "ipython3",
   "version": "3.8.8"
  },
  "toc": {
   "base_numbering": 1,
   "nav_menu": {},
   "number_sections": true,
   "sideBar": true,
   "skip_h1_title": false,
   "title_cell": "Table of Contents",
   "title_sidebar": "Contents",
   "toc_cell": false,
   "toc_position": {},
   "toc_section_display": true,
   "toc_window_display": false
  }
 },
 "nbformat": 4,
 "nbformat_minor": 4
}
