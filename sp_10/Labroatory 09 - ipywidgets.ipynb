{
 "cells": [
  {
   "cell_type": "markdown",
   "metadata": {},
   "source": [
    "# Script programming (laboratory 09)\n",
    "\n",
    "## Ipywidgets\n",
    "\n",
    "### Submission\n",
    "\n",
    "<u>Submission:</u>\n",
    "\n",
    "Compress all files into **single zip** archive and submit via Wikamp. See below the content of the archive (replace the `name` and `surname` with proper values):\n",
    "```\n",
    "📂 name.surname.zip\n",
    "+-- 📜 Labroatory 09 - ipywidgets.ipynb\n",
    "\n",
    "```\n",
    "\n",
    "<u>Grades</u>\n",
    "\n",
    "| Number of points | mark |\n",
    "| :----            | ---: |\n",
    "| <5               | 2    |\n",
    "| 5                | 3    |\n",
    "| 6-7              | 3.5  |\n",
    "| 8                | 4    |\n",
    "| 9-10             | 4.5  |\n",
    "| 11               | 5    |\n",
    "\n",
    "<u>Penalties</u>\n",
    "\n",
    "* `mark - 0.5` if tasks are submitted next day (but less than 7 days); \n",
    "* `mark - 1` if tasks are submitted after one week (>=7 days but < 14 days);\n",
    "* `mark - 1.5` if tasks are submitted later than two weeks (>=14 days) but less than a month.\n",
    "* `mark = 2` if tasks are submitted a month after the laboratory (or does not at all).\n",
    "\n",
    "<u>Warning:</u>\n",
    "\n",
    "It is NOT allowed to share your `.ipynb` file with other students nor Internet. All students should download the exercise files directly from WIKAMP. Group work is considered as plagiarism.\n",
    "\n",
    "<u>Plagiarism Disclaimer:</u>\n",
    "\n",
    "I hereby declare that this exercise is my own and autonomous work. I am aware of the consequences and I am familiar with the university regulations.\n"
   ]
  },
  {
   "cell_type": "markdown",
   "metadata": {},
   "source": [
    "### Task 1. Sliders\n",
    "Create two Sliders with values in the range between 1 and 100, and then (in separate cell) calculate the sum of chosen values and print the result."
   ]
  },
  {
   "cell_type": "code",
   "execution_count": 1,
   "metadata": {},
   "outputs": [],
   "source": [
    "import ipywidgets as widgets\n",
    "from IPython.display import display"
   ]
  },
  {
   "cell_type": "code",
   "execution_count": 7,
   "metadata": {},
   "outputs": [
    {
     "data": {
      "application/vnd.jupyter.widget-view+json": {
       "model_id": "0ae6581309324a449318d4672cf2c684",
       "version_major": 2,
       "version_minor": 0
      },
      "text/plain": [
       "IntSlider(value=1, min=1)"
      ]
     },
     "metadata": {},
     "output_type": "display_data"
    },
    {
     "data": {
      "application/vnd.jupyter.widget-view+json": {
       "model_id": "d491877a062846a5a882e7f5dc477d6e",
       "version_major": 2,
       "version_minor": 0
      },
      "text/plain": [
       "IntSlider(value=1, min=1)"
      ]
     },
     "metadata": {},
     "output_type": "display_data"
    }
   ],
   "source": [
    "w1=widgets.IntSlider(min=1,max=100)\n",
    "w2=widgets.IntSlider(min=1,max=100)\n",
    "display(w1,w2)\n"
   ]
  },
  {
   "cell_type": "code",
   "execution_count": 8,
   "metadata": {},
   "outputs": [
    {
     "name": "stdout",
     "output_type": "stream",
     "text": [
      "122\n"
     ]
    }
   ],
   "source": [
    "print(w1.value+w2.value)"
   ]
  },
  {
   "cell_type": "markdown",
   "metadata": {},
   "source": [
    "### Task 2. Calculator\n",
    "\n",
    "1. Create two Sliders (values between 1 and 10), Label, Button, and Dropdown object with four options:\n",
    "    * Add\n",
    "    * Subtract\n",
    "    * Multiply\n",
    "    * Divide\n",
    "2. Add `click` method to Button that calculates the result of the chosen operation for given numbers.\n",
    "\n",
    "Expected result:\n",
    "<img style=\"height:130pt\" src=\"Task 2.png\" />"
   ]
  },
  {
   "cell_type": "code",
   "execution_count": 9,
   "metadata": {
    "scrolled": true
   },
   "outputs": [
    {
     "data": {
      "application/vnd.jupyter.widget-view+json": {
       "model_id": "9b52808240744c79a1eaebcf7c0a6eb0",
       "version_major": 2,
       "version_minor": 0
      },
      "text/plain": [
       "IntSlider(value=1, min=1)"
      ]
     },
     "metadata": {},
     "output_type": "display_data"
    },
    {
     "data": {
      "application/vnd.jupyter.widget-view+json": {
       "model_id": "cf65e0ff017b4ea2a8856d0e7929b624",
       "version_major": 2,
       "version_minor": 0
      },
      "text/plain": [
       "IntSlider(value=1, min=1)"
      ]
     },
     "metadata": {},
     "output_type": "display_data"
    },
    {
     "data": {
      "application/vnd.jupyter.widget-view+json": {
       "model_id": "6a0c689e7d9b4b81b47d7f5702a39f39",
       "version_major": 2,
       "version_minor": 0
      },
      "text/plain": [
       "Dropdown(options=('Add', 'Substract', 'Multiply', 'Divide'), value='Add')"
      ]
     },
     "metadata": {},
     "output_type": "display_data"
    },
    {
     "data": {
      "application/vnd.jupyter.widget-view+json": {
       "model_id": "c0f10faa11c1427e89f2fcd4f318874d",
       "version_major": 2,
       "version_minor": 0
      },
      "text/plain": [
       "Button(description='Calculate', style=ButtonStyle())"
      ]
     },
     "metadata": {},
     "output_type": "display_data"
    },
    {
     "data": {
      "application/vnd.jupyter.widget-view+json": {
       "model_id": "ed6c16c51409423f93262442f76c2f79",
       "version_major": 2,
       "version_minor": 0
      },
      "text/plain": [
       "Label(value='Label')"
      ]
     },
     "metadata": {},
     "output_type": "display_data"
    }
   ],
   "source": [
    "w3=widgets.IntSlider(min=1,max=100)\n",
    "w4=widgets.IntSlider(min=1,max=100)\n",
    "w=widgets.Dropdown(options=['Add','Substract','Multiply','Divide'])\n",
    "l=widgets.Label(value='Label')\n",
    "b=widgets.Button(description='Calculate')\n",
    "\n",
    "def on_click():\n",
    "    if w.value=='Add':\n",
    "        l.value='Result: ' + str(w3.value+w4.value)\n",
    "    elif w.value=='Subtract':\n",
    "        l.value='Result: ' + str(w3.value-w4.value)\n",
    "    elif w.value=='Multiply':\n",
    "        l.value='Result: ' + str(w3.value*w4.value)\n",
    "    elif w.value=='Divide':\n",
    "        l.value='Result: ' + str(w3.value/w4.value)\n",
    "    \n",
    "    \n",
    "    \n",
    "b.click=on_click\n",
    "\n",
    "\n",
    "display(w3,w4,w,b,l)"
   ]
  },
  {
   "cell_type": "markdown",
   "metadata": {},
   "source": [
    "### Task 3. BMI\n",
    "Create a program that calculates the Body mass index (BMI).\n",
    "The program should:\n",
    "* contain Two sliders (for weight and height),\n",
    "* display the value in two decimal places,\n",
    "* display the category,\n",
    "* present the category in <span style=\"color:red\">c</span>\n",
    "<span style=\"color:orange\">o</span>\n",
    "<span style=\"color:#fd0\">l</span>\n",
    "<span style=\"color:green\">o</span>\n",
    "<span style=\"color:#fd0\">r</span>\n",
    "<span style=\"color:orange\">s</span> (for example: red, orange, green, etc.),\n",
    "* the colors should be informative, i.e. red means the result is critical and green means all is fine,\n",
    "* the result should update automatically when changing the values of weight/height.\n",
    "\n",
    "\n",
    "\n",
    "Formula:\n",
    "$$\n",
    "\\texttt{BMI} = \\frac{\\texttt{mass}_{\\texttt{kg}}}{\\texttt{height}_{\\texttt{m}}^2}\n",
    "$$\n",
    "\n",
    "Use below table as the reference:\n",
    "\n",
    "| Category                            | from | to   |\n",
    "| :---                                | :--- | :--- |\n",
    "| Very severely underweight           | -    | 15   |\n",
    "| Severely underweight                | 15   | 16   |\n",
    "| Underweight                         | 16   | 18.5 |\n",
    "| Normal (healthy weight)             | 18.5 | 25   |\n",
    "| Overweight                          | 25   | 30   |\n",
    "| Obese Class I (Moderately obese)    | 30   | 35   |\n",
    "| Obese Class II (Severely obese)     | 35   | 40   |\n",
    "| Obese Class III (Very severely obese)|40   | -    |\n",
    "\n",
    "\n",
    "Tips:\n",
    "* `observe` method can be used to update the results\n",
    "* to display colors the `HTML` widget can be used_\n",
    "\n",
    "\n",
    "Expected result:\n",
    "<img style=\"height:130pt\" src=\"Task 3.png\" />\n"
   ]
  },
  {
   "cell_type": "code",
   "execution_count": 10,
   "metadata": {},
   "outputs": [
    {
     "ename": "NameError",
     "evalue": "name 'color' is not defined",
     "output_type": "error",
     "traceback": [
      "\u001b[1;31m---------------------------------------------------------------------------\u001b[0m",
      "\u001b[1;31mNameError\u001b[0m                                 Traceback (most recent call last)",
      "\u001b[1;32m<ipython-input-10-27059b3f48c3>\u001b[0m in \u001b[0;36m<module>\u001b[1;34m\u001b[0m\n\u001b[0;32m     41\u001b[0m \u001b[0mw\u001b[0m\u001b[1;33m.\u001b[0m\u001b[0mobserve\u001b[0m\u001b[1;33m(\u001b[0m\u001b[0mon_change\u001b[0m\u001b[1;33m,\u001b[0m\u001b[0mnames\u001b[0m\u001b[1;33m=\u001b[0m\u001b[1;34m'value'\u001b[0m\u001b[1;33m)\u001b[0m\u001b[1;33m\u001b[0m\u001b[1;33m\u001b[0m\u001b[0m\n\u001b[0;32m     42\u001b[0m \u001b[1;33m\u001b[0m\u001b[0m\n\u001b[1;32m---> 43\u001b[1;33m \u001b[0mw\u001b[0m\u001b[1;33m=\u001b[0m\u001b[0mwidgets\u001b[0m\u001b[1;33m.\u001b[0m\u001b[0mHTML\u001b[0m\u001b[1;33m(\u001b[0m\u001b[0mvalue\u001b[0m \u001b[1;33m=\u001b[0m \u001b[1;34mf\"<b><font color={color}>{text}</b>\"\u001b[0m\u001b[1;33m)\u001b[0m\u001b[1;33m\u001b[0m\u001b[1;33m\u001b[0m\u001b[0m\n\u001b[0m\u001b[0;32m     44\u001b[0m \u001b[0mdisplay\u001b[0m\u001b[1;33m(\u001b[0m\u001b[0mw5\u001b[0m\u001b[1;33m,\u001b[0m\u001b[0mw6\u001b[0m\u001b[1;33m,\u001b[0m\u001b[0ml1\u001b[0m\u001b[1;33m,\u001b[0m\u001b[0mw\u001b[0m\u001b[1;33m)\u001b[0m\u001b[1;33m\u001b[0m\u001b[1;33m\u001b[0m\u001b[0m\n",
      "\u001b[1;31mNameError\u001b[0m: name 'color' is not defined"
     ]
    }
   ],
   "source": [
    "w5=widgets.IntSlider(min=20,max=150, description='Weight [kg]')\n",
    "w6=widgets.IntSlider(min=100,max=230, description='Height [cm]')\n",
    "l1=widgets.Label(value='BMI: ')\n",
    "\n",
    "def on_change(value):\n",
    "    BMI=float(w5.value/((w6.value*0.01)**2))\n",
    "    \n",
    "    if BMI<=15.:\n",
    "        text='Very severely underweight'\n",
    "        color='red'\n",
    "    elif (BMI>15. and BMI<=16.):\n",
    "        text='Severely underweight'\n",
    "        color='orange'\n",
    "    elif (BMI>16. and BMI<=18.5):\n",
    "        text='Underweight'\n",
    "        color='yellow'\n",
    "    elif (BMI>18.5 and BMI<=25.):\n",
    "        text='Normal (healthy weight)'\n",
    "        color='green'\n",
    "    elif (BMI>25. and BMI<=30.):\n",
    "        text='Overweight'\n",
    "        color='yellow'\n",
    "    elif (BMI>30. and BMI<=35.):\n",
    "        text='Obese Class I (Moderately obese)'\n",
    "        color='orange'\n",
    "    elif (BMI>35. and BMI<=40.):\n",
    "        text='Obese Class II (Severely obese)'\n",
    "        color='red'\n",
    "    elif BMI>40.:\n",
    "        text='Obese Class III (Very severely obese)'\n",
    "        color='red'\n",
    "        \n",
    "    BMI=\"{:.2f}\".format(BMI)\n",
    "    l1.value=f'BMI: {BMI}'\n",
    "    return color, text\n",
    "    \n",
    "\n",
    "\n",
    "w5.observe(on_change, names='value')\n",
    "w6.observe(on_change, names='value')\n",
    "w.observe(on_change,names='value')\n",
    "\n",
    "w=widgets.HTML(value = f\"<b><font color={color}>{text}</b>\")\n",
    "display(w5,w6,l1,w)"
   ]
  },
  {
   "cell_type": "markdown",
   "metadata": {},
   "source": [
    "### Task 4. Quadratic function\n",
    "1. Implement function that plots the chart of the quadratic function.\n",
    "2. Use `interactive` function to update the chart using sliders to change: `a`, `b`, `c`.\n",
    "\n",
    "Expected result:\n",
    "<img style=\"height:170pt\" src=\"Task 4.gif\" />"
   ]
  },
  {
   "cell_type": "code",
   "execution_count": 11,
   "metadata": {},
   "outputs": [
    {
     "data": {
      "application/vnd.jupyter.widget-view+json": {
       "model_id": "e758a1621a214097bc4388f7a9cba3c5",
       "version_major": 2,
       "version_minor": 0
      },
      "text/plain": [
       "interactive(children=(FloatSlider(value=0.0, description='a', max=0.5, min=-0.5), FloatSlider(value=0.0, descr…"
      ]
     },
     "metadata": {},
     "output_type": "display_data"
    }
   ],
   "source": [
    "import matplotlib.pyplot as plt\n",
    "import numpy as np\n",
    "\n",
    "def f(a,b,c):\n",
    "    x=np.arange(-10.0, 10.0, 0.1)\n",
    "    x=np.array(x)\n",
    "    y=a*x*x+b*x+c\n",
    "    plt.plot(x, y, label='f(x)') \n",
    "    plt.axis([-10.0, 10.0,-4, 4])\n",
    "    \n",
    "widgets.interactive(f, a=(-0.5,0.5,0.1), b=(-2, 2, 0.5), c=(-3, 3,0.5))\n",
    "\n"
   ]
  },
  {
   "cell_type": "code",
   "execution_count": null,
   "metadata": {},
   "outputs": [],
   "source": []
  }
 ],
 "metadata": {
  "author": {
   "email": [
    "robert.susik@p.lodz.pl",
    "robert.susik@gmail.com"
   ],
   "name": "Robert Susik"
  },
  "kernelspec": {
   "display_name": "Python 3",
   "language": "python",
   "name": "python3"
  },
  "language_info": {
   "codemirror_mode": {
    "name": "ipython",
    "version": 3
   },
   "file_extension": ".py",
   "mimetype": "text/x-python",
   "name": "python",
   "nbconvert_exporter": "python",
   "pygments_lexer": "ipython3",
   "version": "3.8.8"
  },
  "toc": {
   "base_numbering": 1,
   "nav_menu": {},
   "number_sections": true,
   "sideBar": true,
   "skip_h1_title": false,
   "title_cell": "Table of Contents",
   "title_sidebar": "Contents",
   "toc_cell": false,
   "toc_position": {},
   "toc_section_display": true,
   "toc_window_display": false
  }
 },
 "nbformat": 4,
 "nbformat_minor": 4
}
