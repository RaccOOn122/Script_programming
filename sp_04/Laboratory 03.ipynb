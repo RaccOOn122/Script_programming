{
 "cells": [
  {
   "cell_type": "markdown",
   "metadata": {},
   "source": [
    "# Script programming\n",
    "\n",
    "## Laboratory 03\n",
    "\n",
    "### Submission\n",
    "\n",
    "<u>Submission:</u>\n",
    "\n",
    "Compress all files into **single zip** archive and submit via Wikamp. See below the content of the archive (replace the `name` and `surname` with proper values):\n",
    "```\n",
    "📂 name.surname.zip\n",
    "+-- 📜 Laboratory 03.ipynb\n",
    "```\n",
    "\n",
    "<u>Grades</u>\n",
    "\n",
    "| Percentage of all points | mark |\n",
    "| :----                    | ---: |\n",
    "| [0-50)   | 2   |\n",
    "| [50-60)  | 3   |\n",
    "| [60-70)  | 3.5 |\n",
    "| [70-80)  | 4   |\n",
    "| [80-90)  | 4.5 |\n",
    "| [90-100] | 5   |\n",
    "\n",
    "<u>Penalties</u>\n",
    "\n",
    "* `mark - 0.5` if tasks are submitted after laboratory (but less than 7 days); \n",
    "* `mark - 1` if tasks are submitted after one week (>=7 days but < 14 days);\n",
    "* `mark - 1.5` if tasks are submitted later than two weeks (>=14 days).\n",
    "\n",
    "<u>Warning:</u>\n",
    "\n",
    "It is NOT allowed to share your `.ipynb` file with other students nor Internet. All students should download the exercise files directly from WIKAMP. Group work is considered as plagiarism.\n",
    "\n",
    "<u>Plagiarism Disclaimer:</u>\n",
    "\n",
    "I hereby declare that this exercise is my own and autonomous work. I am aware of the consequences and I am familiar with the university regulations.\n",
    "\n",
    "\n",
    "## One-liners (0.25 points each)\n",
    "\n",
    "The ability to write and read one-liners in python is one of the most necessary skill. Unlike some different programming languages Python allows to write complex operations in only one line. \n",
    "\n",
    "Useful Python elements to write one-liners are:\n",
    "* list comprehension (for sets also),\n",
    "* `range` objects,\n",
    "* functions: `all`, `any`,\n",
    "* math functions: `sum`, `min`, `max`,\n",
    "* `string` class methods: `split`, `join`,\n",
    "* type conversion: `str(...)`, `int(...)`, `float(...)`.\n",
    "\n",
    "In the below tasks write one-liner body of the function. Additionally, write 2 or 3 assertions that test the correctness of the functions.\n",
    "\n",
    "**Remarks**:\n",
    "1. We assume that all the given input is valid (type/format).\n",
    "2. There is no need to import additional libraries (especially **regular expressions are NOT needed**).\n",
    "\n",
    "### Tasks:\n",
    "\n",
    "1. Write a function that takes a sentence `s` and returns the same sentence with asterisks `*` in place of *space* character. If between words are two spaces then there will be two asterisks."
   ]
  },
  {
   "cell_type": "code",
   "execution_count": 1,
   "metadata": {},
   "outputs": [],
   "source": [
    "def one_sentence_with_stars(s):\n",
    "    return \"\".join(['*' if s[i]==' ' else s[i] for i in range(len(s))])\n",
    "\n",
    "\n",
    "# Test\n",
    "assert one_sentence_with_stars(\"Sentence_with_underscores\") == \"Sentence_with_underscores\"\n",
    "assert one_sentence_with_stars(\"A  normal sentence.\") == \"A**normal*sentence.\""
   ]
  },
  {
   "cell_type": "markdown",
   "metadata": {},
   "source": [
    "2. Write a function that takes a sentence `s` and returns the sentence with single asterisks `*` between words."
   ]
  },
  {
   "cell_type": "code",
   "execution_count": 2,
   "metadata": {},
   "outputs": [],
   "source": [
    "def two_sentence_with_stars2(s):\n",
    "    return \"\".join(['*' if (s[i]==' ' and s[i+1]!=' ') else (''  if (s[i]==' ' and s[i+1]==' ') else s[i]) for i in range(len(s))])\n",
    "\n",
    "    \n",
    "# Test\n",
    "assert two_sentence_with_stars2(\"Sentence_with_underscores\") == \"Sentence_with_underscores\"\n",
    "assert two_sentence_with_stars2(\"A        normal sentence.\") == \"A*normal*sentence.\""
   ]
  },
  {
   "cell_type": "markdown",
   "metadata": {},
   "source": [
    "\n",
    "3. Write a function that takes a string `s` in format:\n",
    "\n",
    "```python\n",
    "\"\"\"50 abc 1.5 5\n",
    "-12 def 2.75 1\n",
    "35 gh 3 2\n",
    "1000 ijkl -4.35 33\"\"\"\n",
    "``` \n",
    "and returns the sum of the one before last column (`a[-2]`). In the above case: 1.5+2.75+3+(-4.35).\n",
    "The number of lines in `s` is variable, but at least one. The number of columns in `s` is variable but at least two. Write assertions (one for above example and one for different number of rows).\n"
   ]
  },
  {
   "cell_type": "code",
   "execution_count": 3,
   "metadata": {},
   "outputs": [],
   "source": [
    "def three_sum_middle_column(s):\n",
    "     return sum(map(float,s.split()[2::4]))\n",
    "\n",
    "\n",
    "assert float(\"{:.2f}\".format(three_sum_middle_column(\"\"\"50 abc 1.5 5\n",
    "-12 def 2.75 1\n",
    "35 gh 3 2\n",
    "1000 ijkl -4.35 33\"\"\")))==2.9\n",
    "assert float(\"{:.2f}\".format(three_sum_middle_column(\"\"\"50 abc 1.5 5\n",
    "-12 def 2.75 1\n",
    "35 gh 3 2\n",
    "1000 ijkl -4.35 33\n",
    "1 mno 17 2\"\"\")))==19.9"
   ]
  },
  {
   "cell_type": "markdown",
   "metadata": {},
   "source": [
    "\n",
    "4. Write a function that takes integer number `n` and returns the number of unique digits in `n`. For 1223 the result is 3 (because there are following digits: {1, 2, 3}). Write three assertions.\n"
   ]
  },
  {
   "cell_type": "code",
   "execution_count": 1,
   "metadata": {},
   "outputs": [],
   "source": [
    "def four_count_unique_digits(n):\n",
    "    return len(set(str(n)))\n",
    "\n",
    "\n",
    "assert four_count_unique_digits(1223)==3\n",
    "assert four_count_unique_digits(1221)==2\n",
    "assert four_count_unique_digits(12345671)==7"
   ]
  },
  {
   "cell_type": "markdown",
   "metadata": {},
   "source": [
    "\n",
    "5. Write a function that takes the number `n` and returns the list of its divisors. Write two assertions.\n"
   ]
  },
  {
   "cell_type": "code",
   "execution_count": 5,
   "metadata": {},
   "outputs": [],
   "source": [
    "def five_divisors(n):\n",
    "    return [i for i in range(1,n+1) if  n/i==int(n/i)]\n",
    "\n",
    "\n",
    "assert five_divisors(6)==[1,2,3,6]\n",
    "assert five_divisors(32)==[1,2,4,8,16,32]"
   ]
  },
  {
   "cell_type": "markdown",
   "metadata": {},
   "source": [
    "\n",
    "6. Write a function that takes variable number of arguments (sets) and returns the intersection of the first set and the others. Assertions to check:\n",
    "```python\n",
    ">>> six_intersection(set([1, 2, 3]), set([3, 5]), set([2, 1, 10]), set([4, 10]))\n",
    "[{3}, {1, 2}, set()]\n",
    ">>> six_intersection(set([1, 2, 3]))\n",
    "[]\n",
    "```\n"
   ]
  },
  {
   "cell_type": "code",
   "execution_count": 6,
   "metadata": {},
   "outputs": [],
   "source": [
    "def six_intersections(*sets):#multiple variables to this function\n",
    "    return [sets[0].intersection(sets[i]) for i in range(1,len(sets))]\n",
    "\n",
    "\n",
    "assert six_intersections(set([1, 2, 3]), set([3, 5]), set([2, 1, 10]), set([4, 10])) == [{3}, {1, 2}, set()]\n",
    "assert six_intersections(set([1, 2, 3])) == []"
   ]
  },
  {
   "cell_type": "markdown",
   "metadata": {},
   "source": [
    "\n",
    "7. Write a function that takes a list of integer numbers `li` and returns numbers that are divisible by 3 but NOT divisible by 5. Additionally, the elements should be returned in reverse order. Write three assertions.\n"
   ]
  },
  {
   "cell_type": "code",
   "execution_count": 7,
   "metadata": {},
   "outputs": [],
   "source": [
    "def seven_easy(li):\n",
    "    #return li\n",
    "    return [i for i in reversed(li) if (i%3==0 and i%5!=0)]\n",
    "\n",
    "\n",
    "assert seven_easy([1,2,3,4,5,6,7,8,9,10,11,12,15])==[12,9,6,3]\n",
    "assert seven_easy([12,23,32,33,35,45])==[33,12]\n",
    "assert seven_easy([5,15,13,3,9,45])==[9,3]"
   ]
  },
  {
   "cell_type": "markdown",
   "metadata": {},
   "source": [
    "8. Write a function that takes a set `set_` of numbers and returns `True` if all of elements are even. Write two assertions."
   ]
  },
  {
   "cell_type": "code",
   "execution_count": 8,
   "metadata": {},
   "outputs": [],
   "source": [
    "def eleven_even(set_):\n",
    "    return all(list(set_)[i]%2==0 for i in range(len(set_)))\n",
    "    \n",
    "    \n",
    "\n",
    "assert eleven_even(set([1,2,5,6]))==False\n",
    "assert eleven_even(set([2,6,8,12,16]))==True"
   ]
  },
  {
   "cell_type": "markdown",
   "metadata": {},
   "source": [
    "\n",
    "## [Numpy](https://numpy.org/doc/stable/)/[Matplotlib](https://matplotlib.org/) (1 point)\n"
   ]
  },
  {
   "cell_type": "markdown",
   "metadata": {},
   "source": [
    "For given $a$, $b$, and $c$ find roots of quadratic equation $ax^2 + bx + c = 0$ using `numpy`. \n",
    "If there are two roots ($x1$, $x2$; $x1 < x2$) then display a chart of this equation using `matplotlib`. The X axis should have the range of $3(x2 - x1)$. Save the chart with different extensions: (i.e. `png`, `pdf`, `eps`, `svg`).\n",
    "\n",
    "Example:\n",
    "<img style=\"width: 30%\" src=\"data:image/png;base64,iVBORw0KGgoAAAANSUhEUgAAAYcAAAEGCAYAAACO8lkDAAAABHNCSVQICAgIfAhkiAAAAAlwSFlzAAALEgAACxIB0t1+/AAAADh0RVh0U29mdHdhcmUAbWF0cGxvdGxpYiB2ZXJzaW9uMy4yLjEsIGh0dHA6Ly9tYXRwbG90bGliLm9yZy+j8jraAAAgAElEQVR4nO3dd3hUZdrH8e+TSe+QhJaEBAg99IA0UQRUsIANQQRUFN1lLau79tVV19e2L+qq6AuiYqHYYS1gAxQMJUAghZJCQhKSkAQI6fV5/5gBgVACZOZMuT/XlSsz55xMfhxg7jnnaUprjRBCCHE8N6MDCCGEsD9SHIQQQjQhxUEIIUQTUhyEEEI0IcVBCCFEE+5GB2gJoaGhOjo62ugYQgjhULZs2VKstQ471T6nKA7R0dEkJCQYHUMIIRyKUir7dPvktpIQQogmbFYclFImpdQ2pdQ3luedlFIblVLpSqllSilPy3Yvy/N0y/5oW2UUQghhZssrh/uBncc9fwl4VWsdAxwCZlm2zwIOWba/ajlOCCGEDdmkzUEpFQFcBTwPPKiUUsBlwC2WQxYB/wTeBiZaHgN8DryplFJa5vkQ56muro7c3Fyqq6uNjmJT3t7eRERE4OHhYXQU4YBs1SD9GvAwEGB5HgIc1lrXW57nAuGWx+FADoDWul4pVWo5vthGWYWTyc3NJSAggOjoaMyfS5yf1pqSkhJyc3Pp1KmT0XGEA7L6bSWl1NXAAa31lhZ+3dlKqQSlVEJRUVFLvrRwMtXV1YSEhLhMYQBQShESEuJyV0ui5diizWEEcK1SKgtYivl20utAsFLq6JVLBJBneZwHRAJY9gcBJSe/qNZ6vtY6TmsdFxZ2ym66QhzjSoXhKFf8M4uWY/XioLV+TGsdobWOBqYAv2itpwGrgRsth80Ellser7A8x7L/F2u1NyTmHOallbus8dJCCGFVWmue/zaVlP2lVnl9I8c5PIK5cTodc5vCQsv2hUCIZfuDwKPWCpCUe5i312SQnGedkyuEENayIfMgC37by+6CMqu8vk2Lg9Z6jdb6asvjTK31EK11jNb6Jq11jWV7teV5jGV/prXyXNs/HC93N5Zu3metXyGEEFaxbPM+ArzdGR/b3iqv79IjpIN8PJjQpz3LE/dTVdtgdBzhAh566CH69evHXXfdxSWXXEJDw+n/3dXW1jJq1Cjq6+tPe4xwTaWVdXyfXMDE/h3w8TRZ5Xe4dHEAmBwXSVl1Pd8n5xsdRTi5jIwM1q9fz/bt2+nfvz/XX389JtPp/2N7enoyZswYli1bZsOUwhEs355HTX0jUwZ3tNrvcIqJ9y7E0M6tiQ7xZdnmHK4fGGF0HGFlz/w3hdT9R1r0NXt1COTpa3qf8Zjdu3czduxY6uvrGTBgAABfffXVsf2jR4/m8ccfZ9y4cTz55JOUlpbyxhtvMGnSJB577DGmTZvWopmFY1u2OYde7QOJDQ+y2u9w+eKglOKmuEheWbWbzKJyOof5Gx1JOKHu3bszc+ZMoqOjmTFjBh07duT4aeafeeYZnnrqKQ4cOMC2bdtYsWIFALGxsWzevNmg1MIeJeeVkrL/CM9OPPMHkgvl8sUB4MZBEcz9cQ+fJuTy6PgeRscRVnS2T/jWlJSUxMSJEykuLiY4OPiEfaNGjUJrzdy5c1mzZs2x200mkwlPT0/KysoICAg41csKF7N08z683N2Y2C/87AdfAJdvcwBoG+jN6O5hfL4ll7qGRqPjCCeVkpJCbGwsPj4+TUYuJyUlkZ+fj6enZ5MiUFNTg7e3ty2jCjtVVdvA8sT9jI9tR5CvdefMkuJgcfPgjhSX1/DLrgNGRxFOqKysDA8PD3x8fGjVqhUNDQ3HCkR+fj7Tpk1j+fLl+Pv7s3LlymM/V1JSQmhoqEyeJwD4Limfsup6Jg+OtPrvkuJgMbp7GG0DvViyScY8iJaXnJxMbGzsseeXX34569ato7Kykuuvv57//d//pWfPnvzjH//gmWeeOXbc6tWrueqqq4yILOzQkk376BTqx7DOIVb/XVIcLNxNbkyOi2TtniLyDlcZHUc4mWHDhvHZZ58dez5nzhwWLVqEr68v8fHxjBs3DjC3PcTHxx87bvHixdx99902zyvsT1phGQnZh5gyONIm82ZJcTjO5DjzpdqyzTkGJxHObuDAgYwePfqsg+AmTZpEt27dbJhM2Kslm3LwMCluGGSbLvdSHI4T2dqXUV3D+Cwhh3ppmBZWdscdd5x1ENyMGTNsmEjYq+q6Br7clsvlvdsR6u9lk98pxeEkU4dEkl9azdo9skaEEMI+rEop4HBlHVOtOCL6ZFIcTjKmZ1tC/b1YskluLQkh7MOSTfvo2NqX4V2s3xB9lBSHk3iY3JgcF8EvuwopKJVVtIQQxsosKmdD5kGmDInEzc12CzhJcTiFKYM70qilYVoIYbwlm/bh7qa40UYN0UdJcTiFjiG+jOoWxtLN+6RhWghhmOq6Bj7bkssVvdvRJsC2o+SlOJzGtIs6kl9azerd0jAthDDG98n5HK6s45aLbNcQfZQUh9MY06MNbQO9+GRjttFRhBAu6pMNthsRfTIpDqfhbnLj5sEdWbuniJyDlUbHEeKYlStX0r17d2JiYnjxxReNjiOsZFfBERKyD3HLkI42bYg+SorDGUwZHIkCmW9J2I2GhgbmzJnD999/T2pqKkuWLCE1NdXoWMIKFm/ch6fJzWYjok8mxeEMOgT7cFmPtnyakEttvTRMi/OXnJzM8OHDjz3funUrY8aMOefX2bRpEzExMXTu3BlPT0+mTJnC8uXLWzKqsAOVtfV8tTWPCX3a0drP05AMstjPWUwb2pGfdhayKqWAa/p1MDqOuEAPPPAAiYmJLfqa/fv357XXXjvjMb169SIzM5OGhgZMJhMPPvggc+fOPeGYiy++mLKysiY/++9//5uxY8cCkJeXR2TkH9M1R0REsHHjxhb4Uwh7siJxP2U19dxyUZRhGaQ4nMWormFEtvbh4w3ZUhzEeXNzc6N3796kpKSQlpZGVFQUAwcOPOGY3377zaB0wp5orfkwPpvubQMYHN3KsBxSHM7C5KaYdlEUL36/iz2FZXRrK0s1OrKzfcK3pqFDh7J+/XrmzZt3woI+RzXnyiE8PJycnD8GZ+bm5hIebt3lIoVtbcs5TGr+EZ6bFGuTqblPR4pDM0yOi2Tuj3v4eEM2z06MPfsPCHEKQ4cO5bbbbmPOnDmnfENvzpXD4MGDSUtLY+/evYSHh7N06VIWL15sjbjCIB/HZ+Pv5c51A4wt+tIg3Qyt/Ty5uk97vtyaR3lNvdFxhIPq0aMHXl5ePPLII+f9Gu7u7rz55ptcccUV9OzZk8mTJ9O7d+8WTCmMdLCilm925HP9wHD8vYz97C5XDs1067AovtyWx9fb8rh1qHGNRMJxvf7667zwwgv4+fld0OtMmDCBCRMmtFAqYU8+TcihtqHRLt5j5MqhmQZEBtO7QyAfb8hGa210HOFAMjIy6NGjB1VVVcycOdPoOMJONTRqPtmYzUWdWttF26YUh2ZSSjF9aBS7CszruArRXF26dGHXrl0sXLjQ6CjCjv26p4icg1VMH2b8VQNIcTgn1/bvQKC3O4t+zzI6ihDCySyKzyIswIvLe7UzOgogxeGc+Hq6MzkukpXJBRQekYWAhBAtI6u4gjW7i5h2UUc83e3jbdk+UjiQ6cOiaNCaTzbKfEtCiJbxYXw2HiZlyNTcpyPF4RxFhfgxunsbFm/cJ/MtCSEuWEVNPZ9tyWF8bHubL+hzJlIczsOMYVEUl9fwfXK+0VGEEA7uq215lFXXM3O4fTREHyXF4TyM6hpGp1A/aZgWQlwQ8zxKWcSGBzKwo3HzKJ2KFIfz4OZm7ta6dd9hknJLjY4jWorWsG4d3HUXXHEFXH01PPUU7JP2JWEd8Zkl7CksZ8awaEPnUToVqxcHpZS3UmqTUmq7UipFKfWMZXsnpdRGpVS6UmqZUsrTst3L8jzdsj/a2hnPx41xEfh6mnj/971GRxEtIS0N4uLg4ovh3Xfhhx/g22/hueegUye4806oqTE6pXAyH6zPopWvB9fa4YzPtrhyqAEu01r3A/oDVyqlhgIvAa9qrWOAQ8Asy/GzgEOW7a9ajrM7gd4e3Dgogm+251NUJm8aDi0jA0aOhK1boU0bePxx+O47+OILmDoVTCZYuBCuvx7qjZtbKzc3l2XLlhn2+0XLyjlYyU87C5k6pCPeHiaj4zRh9eKgzcotTz0sXxq4DPjcsn0RMMnyeKLlOZb9Y5S9XW9ZzBweTW1DI4ulW6tjmzULDhyAMWMgPR2efx7GjzcXg8WLYfNmCA01F4x581rkVzY0NJzzz/z8889s3bq1RX6/MN6H8VnmmRfsZET0yWzS5qCUMimlEoEDwI9ABnBYa330Y1gucHR+2nAgB8CyvxQIOcVrzlZKJSilEoqKiqz9RzilLmH+XNo9jI83Zku3VkeVlARr10JAgPlKIeAUc9r06wdvv21+/NZb5raJ83DTTTdx9913M3ToUF544QV27drFZZddRv/+/Rk7dizFxcUAp9y+bt06HnzwQT7//HP69+9PZmYmixYtYtCgQfTt25eRI0ee7xkQBqioqWfp5hzGx7ajfZCP0XFOySbFQWvdoLXuD0QAQ4AeLfCa87XWcVrruLCwsAvOeL5uGx5NUVkN3ybtNyyDuABLlpi/T58OQUGnP27SJAgPhz17YMuW8/pVSUlJtG3blg0bNvD3v/+dG264gblz55KYmMi4ceN49dVXqampOeX2kSNHMnjwYJYvX05iYiJhYWG89NJLxMfHs2PHDr755pvzyiSM8eXWXMqq67l9RLTRUU7Lpr2VtNaHgdXAMCBYKXV0yvAIIM/yOA+IBLDsDwJKbJnzXIzqGkbnMD/eX58ls7U6onzLWJWTluxswt3dfAVx/M+cg+rqag4ePMhTTz0FwNdff83IkSPp378/YF5j+sCBA6fdDrB792569DB/rjKZTFRVVfHQQw+RkJBAcHDwOWcSxmhs1Lz/exZ9I4Lsrvvq8WzRWylMKRVseewDjAN2Yi4SN1oOmwkstzxeYXmOZf8v2o7fdd3cFLcPj2ZHbilb98lsrQ7H2zIitbQZXZIPHz7xZ85BSkoKF110Ee7u5s9Dqamp9OnT59j+pKQkevXqddrtxcXFBAUFHft5X19fkpOTGTFiBLNnz2ZeC7WFCOv7Lb2YzKIKbh9hf91Xj2eLK4f2wGql1A5gM/Cj1vob4BHgQaVUOuY2haPzGS8EQizbHwQetUHGC3L9wAgCvd15b32W0VHEuRo+3Pz9k0/O3JaQmQnx8eDldfarjFNISkqib9++x56Hh4eTmppqeelMPvroI2bMmHHa7VlZWXTo8Ed3x7S0NPz8/JgyZQpXX3011dUyEaSjeG/dXsICvLiqj/11Xz2e1VeC01rvAAacYnsm5vaHk7dXAzdZO1dL8vNyZ+qQjiz4LZOcg5VEtvY1OpJorptuggceMHdjXbYMpkxpekxjIzz2mLl43HwzhDTpH3FWSUlJDBnyxz/36dOn891339GnTx98fHx47733CAkJOe12Ly8viouLiY2NZf78+cyfP5/4+Hj8/Pzo3bs3CxYsuJCzIGwkrbCMtXuKeGhcN7uZffW0tNYO/zVo0CBttLxDlbrzY9/q5/6bYnQUcZLU1NQzH/D661qD1iaT1s88o/WBA3/s27ZN64kTzfv9/bU+22vZmbP+2YVNPfrFdt3tie90SXmN0VG01loDCfo076t2XrocR4dgHyb0ac+yzTmUVdcZHUeci3vvNQ98a2iAp5+GiAhz43O3bjBgACxfbu7iumIF9OxpdFrhoErKa/hiax7XD4ygtZ+n0XHOSopDC5o1shNlNfV8mpBrdBRxLpQyD3z74QfzfEp1dbBjh3lKjcBAuO8+SEyE0aONTioc2CeWaf5njYw2OkqzWL3NwZX0jwwmLqoV76/fy23DozG52W9PBFejtT57z5Bx48xfRUWQmwseHtClC/jY5yCls9H228nP5dTUN/BhfDaXdg8jps0pBlraIblyaGGzRnYi91AVP6QUGB1FWHh7e1NSUtL8N8uwMPPtpNhYhy4MJSUleJ9Ht1vR8lYk7qe4vIZZIzsZHaXZ5MqhhV3eux2RrX14d91exvdpb3QcAURERJCbm4tR06wYxdvbm4iICKNjuDytNQvX7aV72wBGxoQaHafZpDi0MJObYtaITvzzv6lsyT7IoKjWRkdyeR4eHnTq5Dif2IRz+TWtmF0FZfz7pn52PejtZHJbyQpuioskyMeD+b9mGh1FCGGwBb9m0jbQyy7XbDgTKQ5W4OflzvShUfyQWsje4gqj4wghDJKyv5R16cXcPqKT/Q96O4ljpXUgM4ZH4eHmxsJ1cvUghKta8Gsmfp4mpg7paHSUcybFwUraBHhz3YBwPkvIpaRcVooTwtXsP1zFf3fkM2VIR4J8PIyOc86kOFjRnRd3oqa+kY82ZBsdRQhhY++vN68vb89rNpyJFAcr6to2gDE92vBhfDZVtee+LKQQwjGVVtaxeOM+ru7bnohWjjkRpxQHK7vn0i4crKjl04Qco6MIIWzk443ZVNQ2cPeoLkZHOW9SHKxscHRrBkW1YsFvmdQ3yDrTQji76roG3l+/l1HdwujVIdDoOOdNioMN3HNJF3IPVfFt0rkvLymEcCyfb8mluLyWey7pbHSUCyLFwQbG9GhD1zb+vLM2UyZDE8KJNTRqFvyWSb+IIIZ1PvdFoeyJFAcbcHNTzB7VmZ35R1i7x7Xm9xHClXyfnE92SSX3XNLFoabKOBUpDjYysX847YO8eXtNhtFRhBBWoLXmnbUZdAr14/Le7YyOc8GkONiIp7sbd17cmY17D7Il+5DRcYQQLezXtGKS845wzyWdnWItFykONjR1SCStfD14e0260VGEEC1s3up02gd5c90A55gmXYqDDfl6unPHiE78tPMAO/OPGB1HCNFCErIOsnHvQe66uLPDTbB3Os7xp3AgM4ZF4+/lLm0PQjiReWsyaO3nyZQhkUZHaTFSHGwsyNeDaUM78s2O/WTJdN5COLyU/aX8susAtw+PxtfTedZPk+JggFkjO+FucuOdtXL1IISje3tNBv5e7swYFm10lBYlxcEAbQK8mTI4ki+25pJ3uMroOEKI85R+oJxvk/K5dWgUQb6ONy33mUhxMMjdl5gn5Po/uXoQwmHNW52Ol7sbd17sfGuUS3EwSHiwDzcMjGDp5hwOHKk2Oo4Q4hxll1SwfPt+br0oilB/L6PjtDgpDgb686UxNDRq/u9XWUpUCEczb3UGJsvUOM5IioOBOob4MrF/Bz7ZmE2xLCUqhMPIPVTJF1tzmTo4kjaB3kbHsQopDgabMzqGmvpGFvwmVw9COIp31mag1B9th85IioPBuoT5c3XfDnwUn83Bilqj4wghziK/tIpPN+dy46BIOgT7GB3HaqQ42IH7Louhqq6B+dL2IITdm7c6g0atmTPaea8aQIqDXejaNoCr+3bgw/gsSqTtQQi7tf9wFcs253BTXCQRrXyNjmNVUhzsxP1jzFcPC37ba3QUIcRpzFuTjsb5rxpAioPdiGkTwDVy9SCE3XKlqwawQXFQSkUqpVYrpVKVUilKqfst21srpX5USqVZvreybFdKqf8opdKVUjuUUgOtndFe3Ge5epgvPZeEsDtvrTavwzJndIzBSWzDFlcO9cBDWutewFBgjlKqF/Ao8LPWuivws+U5wHigq+VrNvC2DTLahZg2AVzbrwMf/p5NUZlcPQhhL3IPVfJpgvmqIdyJeygdz+rFQWudr7XeanlcBuwEwoGJwCLLYYuASZbHE4EPtdkGIFgp1d7aOe3F/WO6UlPfIDO2CmFH3vg5HaUU917mGlcNYOM2B6VUNDAA2Ai01VrnW3YVAG0tj8OBnON+LNey7eTXmq2USlBKJRQVFVkts611DvPn+oERfLQhm4JSmXNJCKPtLa7g86253DKkI+2DXOOqAWxYHJRS/sAXwANa6xPWyNRaa0Cfy+tpredrreO01nFhYWEtmNR494/pSmOj5s3VaUZHEcLlvf7THjxMij+7QA+l49mkOCilPDAXhk+01l9aNhcevV1k+X7Asj0POH6tvQjLNpcR2dqXmwdHsmxzDjkHK42OI4TL2lNYxvLt+5k5PJo2Ac45h9Lp2KK3kgIWAju11nOP27UCmGl5PBNYftz2GZZeS0OB0uNuP7mMv1wWg1KKN36RqwchjPLaT3vw83TnnlGuddUAtrlyGAFMBy5TSiVaviYALwLjlFJpwFjLc4DvgEwgHVgA/NkGGe1O+yAfbr0ois+35JJRVG50HCFcTnJeKd8lFXDHiGha+XkaHcfmrL4attZ6HaBOs3vMKY7XwByrhnIQfx7dhaWb9zH3hz28Nc1lhnsIYRdeXrWbYF8P7nTS9RrORkZI27FQfy/uvLgz3yblk5RbanQcIVxGfEYJv+4pYs6lMQR6O9fa0M0lxcHO3XVxJ1r5evDyql1GRxHCJWiteXnVLtoFejN9WJTRcQwjxcHOBXh78OdLY/gtrZjfM4qNjiOE0/sxtZBt+w5z/9iueHuYjI5jGCkODmD6sCjaB3nz8srdmJtkhBDW0NCo+fcPu+kc6sdNgyKMjmMoKQ4OwNvDxANju5KYc5hVKQVGxxHCaX25NZc9heU8eHk33E2u/fbo2n96B3LDwAhi2vjz8srd1DU0Gh1HCKdTXdfA3B/30C8iiKv6uMx0bqd11uJgmU67ny3CiNNzN7nx6JU9yCyuYOnmnLP/gBDinLy/Pov80moeHd8T89hd19acK4dHgNeUUu+70uyo9mhMzzYMiW7N6z+lUVFTb3QcIZzGoYpa5q1J57IebRjWJcToOHbhrMVBa71Vaz0a+AZYqZR6WinlOlMT2hGlFI9N6EFxeQ0LZEEgIVrMW6vTqaip55ErexgdxW40q83BMj/SbswL79wLpCmlplszmDi1AR1bMaFPO+b/msmBMpnSW4gLlXOwkg/js7lhYATd2wUYHcduNKfNYT3mWVFfxbyuwm3ApcAQpdR8a4YTp/bwFT2oa2jk1R/3GB1FCIf30spduLnBg5d3MzqKXWnO3EqzgVTdtIP9vUqpnVbIJM4iOtSP6UOj+eD3vcwcHk2PdoFGRxLCIW3JPsQ3O/K577IYl1rIpzma0+aQcorCcNRVLZxHNNN9Y2II8Pbg+W93ysA4Ic6D1pp/fZtKWIAXd1/ielNyn80FjXPQWkurqEGCfT25b0xXfksrZs0e51kmVQhb+TYpn237DvP3y7vj52X1CaodjgyCc2DTh0YRHeLL/3y7k3oZGCdEs1XXNfDSyl30aBfADS4+TcbpSHFwYJ7ubjw6vidpB8pZsmmf0XGEcBjvr88i52AVT17VC5ObDHg7FSkODu6K3m0Z1jmEuT/u4XBlrdFxhLB7B8qqefOXNMb1asvIrqFGx7FbUhwcnFKKp67pRWlVHa/9JOtNC3E2r6zcTW1DI09M6Gl0FLsmxcEJ9GwfyNQhHfloQzZphWVGxxHCbm3POcxnW3K5Y2QnokP9jI5j16Q4OIkHx3XDz9PEs9+kStdWIU5Ba80z/00h1N+Lv4yOMTqO3ZPi4CRC/L14YGw3fksr5qedB4yOI4TdWZ64n637DvPwld0JcNF1oc+FFAcnMn1YFF3b+PPsNylU1zUYHUcIu1FWXcfz3+2kX0QQNw6UrqvNIcXBiXiY3Hjm2t7kHKzi/9bK+EQhjvrPz2kUl9fw7MRY3KTrarNIcXAyw2NCuapve+atSSfnYKXRcYQwXFphGe+vz+LmuEj6RQYbHcdhSHFwQk9e1RM3pfjXt6lGRxHCUFpr/vnfFHw9Tfz9iu5Gx3EoUhycUPsgH+4dE8OqlELW7JbGaeG6vksqYH16CX+/ojsh/l5Gx3EoUhyc1J0jO9M5zI+nV0jjtHBNZdV1PPtNCr07BHLLRVFGx3E4UhyclKe7G/+aGEt2SSXzVqcbHUcIm5v74x4OlNXw/HV9ZP6k8yDFwYkNjwllUv8OvLM2k4yicqPjCGEzyXmlLPo9i2kXdaS/NEKfFykOTu6Jq3rh5eHGP75OlpHTwiU0Nmqe/DqZ1n6e/P2KHkbHcVhSHJxcWIAXD1/Zg98zSlieuN/oOEJY3eJN+0jMOcyTV/UiyEdGQp8vKQ4u4JYh5kvr575J5VCFTOstnFfhkWpe+n4XI2JCmNi/g9FxHJoUBxdgclO8eEMfSqvMUwgI4ayeXp5CbUMjz0/qg1LSCH0hpDi4iB7tArn7ks58viWX9enFRscRosWtSilgZUoB94/tKtNxtwApDi7k3su6Eh3iy+NfJcnYB+FUyqrreHp5Cj3aBXDXxZ2NjuMUpDi4EG8PE/9zfR+ySyp59ac9RscRosW8tHIXhWXVvHhDXzxM8rbWEqx+FpVS7ymlDiilko/b1lop9aNSKs3yvZVlu1JK/Ucpla6U2qGUGmjtfK5meJdQpgyOZMGvmWzPOWx0HCEuWHxGCR9v2MftwzvJmIYWZIsS+wFw5UnbHgV+1lp3BX62PAcYD3S1fM0G3rZBPpfz+FU9aRPgzcOf76C2vtHoOEKct8raeh75YgdRIb4ysV4Ls3px0Fr/Chw8afNEYJHl8SJg0nHbP9RmG4BgpVR7a2d0NYHeHjx/XSy7C8t4U6bWEA7sf3/Yw76Dlbx4fV98PE1Gx3EqRt2ca6u1zrc8LgDaWh6HAznHHZdr2daEUmq2UipBKZVQVFRkvaROakzPtlw3IJx5q9NJ3X/E6DhCnLMt2Yd4b/1ebh3akWFdQoyO43QMb7nR5jkdznleB631fK11nNY6LiwszArJnN9TV/ci2NeDv322XW4vCYdSVdvA3z/bTocgHx4d39PoOE7JqOJQePR2keX70UUH8oDI446LsGwTVtDKz5Pnr+tDav4R3vglzeg4QjTby6t2kVlcwcs39sXfy93oOE7JqOKwAphpeTwTWH7c9hmWXktDgdLjbj8JK7iidzuuHxjOvDUZJErvJeEAfs8o5v31WcwcFsWImFCj4zgtW3RlXQLEA+lXN4AAABMgSURBVN2VUrlKqVnAi8A4pVQaMNbyHOA7IBNIBxYAf7Z2PgFPX9ObNgFePPRpogyOE3atrLqOv3+2g+gQXx4ZLzOuWpPVr8e01lNPs2vMKY7VwBzrJhInC/Lx4KUb+jLjvU28smo3/7i6l9GRhDilf32zk/zSKj67Zxi+nnI7yZoMb5AW9mFUtzCmD41i4bq9rEuTuZeE/VmZXMCyhBzuvqQLg6JaGx3H6UlxEMc8PqEnXcL8eOizRA5XytTewn4cOFLNY1/uIDY8kL+O7WZ0HJcgxUEc4+Np4vUpAzhYUcvjXyXJynHCLjQ2av72+Q6q6hp47eYBeLrL25YtyFkWJ4gND+LBcd35LqmAz7fkGh1HCBbFZ/HrniKeuKoXMW38jY7jMqQ4iCZmj+rMRZ1a8/SKFDKLyo2OI1xY6v4jvPD9Li7r0YZbL+podByXIsVBNGFyU7w2pT+e7m7cu2QbNfXSvVXYXmVtPX9ZspVgHw9eubGvrOxmY1IcxCm1D/LhlRv7kbL/CC9+v8voOMIFPb08hb3FFbw2pT8h/l5Gx3E5UhzEaY3r1Zbbhkfz/vosfkotNDqOcCHLE/P4bEsufxkdw/AuMgraCFIcxBk9NqEHvdoH8rfPt5N7qNLoOMIFZBSV8/iXScRFteL+MV2NjuOypDiIM/JyN/HWtIHUN2j+snibzN4qrKqqtoE/f7wVT3c3/jN1AO6y5Kdh5MyLs+oU6scrN/YlMecw//PdTqPjCCf2j+XJ7DlQxmtTBtAh2MfoOC5NioNolvF92nP7iGg++D2Lb3fIRLmi5X2akMPnW3K5d3QMl3STNVqMJsVBNNtj43syoGMwD3++nfQDZUbHEU4kOa+Uf3ydzPAuIdwv02PYBSkOotk83d2YN20gPp4mZn+0hbLqOqMjCSdwsKKWuz/aQms/T/4zdQAmNxnPYA+kOIhz0j7IhzdvGUh2SSUPfrqdxkaZf0mcv/qGRu5dspWi8hreuXUQoTKewW5IcRDnbGjnEJ6Y0JMfUwt5c3W60XGEA3tl1W7Wp5fwr0mx9IsMNjqOOI4UB3Febh8RzXUDwnn1pz38kFJgdBzhgL7elsf//ZrJrUM7Mjku8uw/IGxKioM4L0opXri+D33Dg3hgWSI7848YHUk4kG37DvHwFzsY2rk1T1/T2+g44hSkOIjz5u1hYv6MOAK83blzUQLF5TVGRxIOIL+0itkfbaFdoDdvTxuEhwx0s0vytyIuSNtAbxbMiKOkooZ7PtoiM7iKM6qsreeuDxOoqm3g3ZlxtPLzNDqSOA0pDuKC9Y0I5t839SMh+xAPf75DVpATp9TQqLlvSSKp+4/wn6n96dY2wOhI4gzcjQ4gnMPVfTuw72AlL6/cTcfWvjx0eXejIwk789w3qfy0s5BnJ/bmsh5tjY4jzkKKg2gxf7qkC/tKKnnjl3QiW/kyebD0QBFm763bywe/ZzFrZCdmDIs2Oo5oBikOosUopXhuUix5h6t4/Ksk2gR6cWn3NkbHEgb7Pimf575N5YrebXl8Qk+j44hmkjYH0aI8TOYpNrq3C+BPH29l275DRkcSBvo9o5j7lyYysGMrXrtZpsZwJFIcRIsL8Pbgg9uH0CbQizs+2Ez6gXKjIwkDJOeVMvvDLUSF+LJwZhw+niajI4lzIMVBWEVYgBcf3jEEk5ti5nub2H+4yuhIwoaySyq47f3NBHq78+GsIQT7SpdVRyPFQVhNVIgfH9w+hCNVddz67kaKymSQnCvYf7iKWxZspKGxkUV3DKF9kCza44ikOAirig0P4v3bB5NfWs30hRs5XFlrdCRhRQfKqpn27kaOVNXx0ayL6CpjGRyWFAdhdXHRrVkwI47MogpmvrdJ1oFwUocqapmxcBMFpdV8cMdgYsODjI4kLoAUB2ETI7uGMm/aQFL2H2GGFAinc6iilmnvbiSzuIJ3Z8YxKKq10ZHEBZLiIGxmbK+2vHnLQJJyS5nx3iaOSIFwCgcrarnl3Y2kF5Xz7ow4RsSEGh1JtAAZBCds6srYdrw1bSBzPtnKjIWb+HDWEAK9Pcw7S0rgq68gPx+8vGDYMBg5EpT0jTeM1rB6NWzeDLW1EBEB110HweaFeQ4evWKwFIZR3cIMDixainKGSdLi4uJ0QkKC0THEOfghpYA5i7fSvV0AH06MofUzT8LixVBdfeKBsbHw3HMwaZIxQV3Z0qXwz3/C7t0nbvf1hZkzOfDEM0xblsq+g5UskMLgkJRSW7TWcafaJ7eVhCEu792O+TPiKM7Mo2zIMHjvPXNhuOIKeOIJ+MtfoG1bSE42f1KdN8/oyK7l5Zdh6lRzYQgPh/vvh8cfh8sug8pKePttDg8ZTllBER/cPkQKgzPSWjv816BBg7RwTIdGjdEadEbbaJ0Xv+3EnTU1Wr/4otagtVJax8cbE9LV/PjjH+f8P//Ruq7uhN3Zq+P1vpBwrUEfvGqSQSFFSwAS9GneV+3yykEpdaVSardSKl0p9ajReYSVJCcT/OvPNPj5c/et/8O1PxWRlFv6x35PT3jkEfjrX833vl991bisrmTuXPP3f/wD7r0X3P9omtycdZBr1h5hzswXaPT0pNV3yyEry5icwqrsrjgopUzAW8B4oBcwVSnVy9hUwioWLgTANGM6bz98DV7uJm6eH8/aPUUnHvfgg2AywZdfmhuthfXk5sLKleYOAffdd8KulckF3PruRkL8PHnriRtwmzzZXLTff9+gsMKa7LG30hAgXWudCaCUWgpMBFJb+hc98MADJCYmtvTLimZ6ISmJYcATv/7K+slXoxsaKcgv48pFDXQO9SMswOvYse96exNTUcFdl19OWoCMurWW/ocP85rW7PDy4r4bbji2vaC0mqySCvy93QlrG8j0bxTjCgt5AvjpnXf419q1xoV2cf379+e1115r8de1uysHIBzIOe55rmXbCZRSs5VSCUqphKKiopN3CwdwtJ/c0Y6qniY3encIJNDbnYyicvYdrDx2jD3+Q3VGJ/+daA17iyvIKqmgla8nvdoH4m4y71VO0NNRnJ7ddWVVSt0IXKm1vtPyfDpwkdb6L6f7GenK6qAefhheeQVmzYJ33z22ua6hkWf/m8pHG7IZ27Mtr18UhF+v7uDhAYWFx/rYCyvIzzePZTCZOLInkzk/5/FbWjF3j+rMw1f2OHE9hsmT4bPP4Nlnze0TwuE4WlfWPOD49SUjLNuEs7nzTvP3xYtPaNT0MLnx3KRYnrm2N7/sKmT1HQ+ZP8LefLMUBmtr3x6uuQbq6vj2tr+xIbOEl2/sy2MTep5YGHbtMg9YNJng9tuNyyusxh6Lw2agq1Kqk1LKE5gCrDA4k7CGbt3MYxiqqmDMGDjp6m9m31DWHvyBq+P/S52biQ3XTjcoqGtZP+k2GlFMXbuM1VXrmNwr5I+dWsO6dTBuHNTXw7Rp5isN4XTs7rYSgFJqAvAaYALe01o/f6bj5baSAystNReGLVvMz4cOhUGD4MgRWL4cjhxBu7kx95bHeCN8GHNGd+GvY7vhbrLHzzWOraa+gRe/38X767N4PHsNs5f+27yjVSu49lrw94cNG/74uxoxAlatAj8/40KLC3Km20p2WRzOlRQHB1deDk8/be7aWlp64r6RI+Gf/6R61KU8vTyFZQk5xEW14vWpAwgPlkVkWkpWcQX3LtlGUl4ptw2P5vEJPfH8YSU88wxs2nTiwa1bw+zZ8NRT4CN/B45MioNwDBUV8N135kZRb2/zVUTfviccsjwxjye+Ssbkpnjphj5cGdveoLDOQWvN8sT9PPm1+Zy+fGNfrujd7sSDtmwx3/KrqTHfQho/XoqCk5DiIJxKdon5U+6O3FKuGxDOP6/tTZCPh9GxHE5JeQ1Pfp3M98kFcjXmos5UHOxxEJwQZxQV4scXfxrOm7+k8+bqdOIzSnjpxr5cIpO/NduqlAKe+CqJI1X1PHJlD2aP6nxibyTh8qRVTzgkD5Mbfx3Xja/+PBx/b3dmvreJ+5duo7i8xuhodq2gtJp7PtrC3R9tISzAmxX3juBPl3aRwiCakNtKwuFV1zUwb00Gb69Jx9fTncfG92ByXCRu8oZ3TH1DI59s3Mcrq3ZT19DI/WO7ctfFnfGQXl8uTdochEtIKyzj8a+S2Jx1iD7hQTx9TS/iomUt4/XpxTz731R2F5YxMiaU56+LJSpEup8KKQ7ChRztffPi97soOFLN1X3b87fLuxMd6npvhmmFZbyyajc/pBYS0cqHJyb05MrYdihZdlVYSHEQLqeytp531mSw4Le91DY0MjkukvvHdKVdkLfR0awu52Alr/2UxlfbcvH1dOeeSzpz58Wd8fYwGR1N2BkpDsJlHSir5q1f0lm8aR9KKW4cFMHdozo75W2V9APlvLM2g6+35eHmppg5LIo/XRpDaz9Po6MJOyXFQbi8nIOVzFuTwRdbcqlvbGRCn/bcPqITAzsGO/RtFq01G/ce5IP1WaxKLcDL3Y0pgzty9yWdaR8kYxbEmUlxEMLiwJFqFq7by+KN+yirqad3h0BmDIviqr4d8PdynGE/R6rrWJG4n4/is9ldWEaQjwfTh0Zx+4hoQvy9zv4CQiDFQYgmKmrq+WpbHh/GZ7GnsBwfDxNXxrbjugHhDOsSYpddPGvrG1mXXsSXW/P4IbWQ2vpGerUP5Lbh0VzTrwM+ntKmIM6NFAchTkNrzZbsQ3y5LY9vtu/nSHU9QT4ejOnZhst7tWNETAgB3sZNzVFaWce69GJWpRSwetcBymrqaeXrwbX9OnDdwAj6RQQ59G0xYSwpDkI0Q3VdA2t2F/FDagE/7zxAaVUdJjdFv4ggRsSEMjCqFf0igq3awFtcXsP2nMNsyT7E+vRikvJKadTQ2s+TsZaCNapbGJ7u9ndlIxyPFAchzlFdQyMJWeY36PUZxezILaWh0fx/JbK1D93bBhLTxp8uYX5EtPKlXZA37QK9m3Vrp6KmnoIj1RSWVpN7qIqMonIyisrZmV9G3uEqANzdFAM6BjO8Sygju4YyIDJY1rAQLU6KgxAXqLymnuS8UrbnHGZ77mHSCsvJKqmgruHE/z9e7m4EeLvj5+WOp+XNXGNuL6ioqaespp7a+sYTfsbT3Y3OoX7EtPGnX0Qw/TsG07tDIL6ejtNALhyTzMoqxAXy93JnaOcQhnb+Y8nM+oZGcg5Vsf9wFQWl1RQcqeZIVR1lNfWUV9dT3/hHEfAwueHv5Y6/tzvBPp60C/KibaA34cE+RLTylYnvhN2R4iDEeXI3udEp1I9OLjg1h3B+chNTCCFEE1IchBBCNCHFQQghRBNSHIQQQjQhxUEIIUQTUhyEEEI0IcVBCCFEE1IchBBCNOEU02copYqAbKNz2EgoUGx0CDsm5+fs5BydmSudnyitddipdjhFcXAlSqmE082FIuT8NIecozOT82Mmt5WEEEI0IcVBCCFEE1IcHM98owPYOTk/Zyfn6Mzk/CBtDkIIIU5BrhyEEEI0IcVBCCFEE1IcHIBS6hWl1C6l1A6l1FdKqeDj9j2mlEpXSu1WSl1hZE4jKaVuUkqlKKUalVJxJ+2TcwQopa60nIN0pdSjRuexB0qp95RSB5RSycdta62U+lEplWb53srIjEaR4uAYfgRitdZ9gT3AYwBKqV7AFKA3cCUwTyl19hXunVMycD3w6/Eb5RyZWf7MbwHjgV7AVMu5cXUfYP53cbxHgZ+11l2Bny3PXY4UBwegtf5Ba11veboBiLA8nggs1VrXaK33AunAECMyGk1rvVNrvfsUu+QcmQ0B0rXWmVrrWmAp5nPj0rTWvwIHT9o8EVhkebwImGTTUHZCioPjuQP43vI4HMg5bl+uZZv4g5wjMzkPzddWa51veVwAtDUyjFHcjQ4gzJRSPwHtTrHrCa31cssxTwD1wCe2zGYvmnOOhGhJWmutlHLJ/v5SHOyE1nrsmfYrpW4DrgbG6D8Gp+QBkccdFmHZ5pTOdo5Ow6XO0RnIeWi+QqVUe611vlKqPXDA6EBGkNtKDkApdSXwMHCt1rryuF0rgClKKS+lVCegK7DJiIx2TM6R2Wagq1Kqk1LKE3Mj/QqDM9mrFcBMy+OZgEtelcqVg2N4E/ACflRKAWzQWt+jtU5RSn0KpGK+3TRHa91gYE7DKKWuA94AwoBvlVKJWusr5ByZaa3rlVJ/AVYBJuA9rXWKwbEMp5RaAlwKhCqlcoGngReBT5VSszAvBTDZuITGkekzhBBCNCG3lYQQQjQhxUEIIUQTUhyEEEI0IcVBCCFEE1IchBBCNCHFQQghRBNSHIQQQjQhxUEIK1BKrVZKjbM8/pdS6g2jMwlxLmSEtBDW8TTwrFKqDTAAuNbgPEKcExkhLYSVKKXWAv7ApVrrMqPzCHEu5LaSEFaglOoDtAdqpTAIRyTFQYgWZpnm+RPMK4qVW2bVFcKhSHEQogUppXyBL4GHtNY7gecwtz8I4VCkzUEIIUQTcuUghBCiCSkOQgghmpDiIIQQogkpDkIIIZqQ4iCEEKIJKQ5CCCGakOIghBCiif8HahKU2z80lWoAAAAASUVORK5CYII=\" />"
   ]
  },
  {
   "cell_type": "code",
   "execution_count": 1,
   "metadata": {
    "scrolled": false
   },
   "outputs": [
    {
     "name": "stdout",
     "output_type": "stream",
     "text": [
      "a=2\n",
      "b=4\n",
      "c=1\n",
      "Roots= [-1.7071067811865475, -0.2928932188134525]\n"
     ]
    },
    {
     "name": "stderr",
     "output_type": "stream",
     "text": [
      "The PostScript backend does not support transparency; partially transparent artists will be rendered opaque.\n",
      "The PostScript backend does not support transparency; partially transparent artists will be rendered opaque.\n"
     ]
    },
    {
     "data": {
      "image/png": "[encoded data removed]",
      "text/plain": [
       "<Figure size 432x288 with 1 Axes>"
      ]
     },
     "metadata": {
      "needs_background": "light"
     },
     "output_type": "display_data"
    }
   ],
   "source": [
    "import numpy as np\n",
    "import matplotlib.pyplot as plt\n",
    "a=float(input('a='))\n",
    "b=float(input('b='))\n",
    "c=float(input('c='))\n",
    "\n",
    "def fun(value):\n",
    "    value=np.array(value)\n",
    "    return a*(value*value)+b*value+c\n",
    "\n",
    "roots=np.roots([a,b,c]).tolist()\n",
    "roots=sorted(roots)\n",
    "print('Roots= '+str(roots))\n",
    "\n",
    "x_min=roots[0]-(roots[1]-roots[0])\n",
    "x_max=roots[1]+(roots[1]-roots[0])\n",
    "\n",
    "x=np.arange(x_min, x_max, 0.02)\n",
    "y=fun(x)\n",
    "y_0=[0]*len(x)\n",
    "y_roots=fun(roots)\n",
    "\n",
    "plt.plot(x, y, label='f(x)') \n",
    "plt.plot(x, y_0, 'k', label='y = 0')\n",
    "plt.plot(roots, y_roots,'go', mfc='none', label='roots')\n",
    "plt.axis([x_min, x_max,-8, 10])\n",
    "plt.xlabel('x')\n",
    "plt.ylabel('y')\n",
    "plt.legend(loc='upper center')\n",
    "\n",
    "#plt.savefig('plot_png.png')\n",
    "#plt.savefig('plot_pdf.pdf')\n",
    "#plt.savefig('plot_eps.eps')\n",
    "#plt.savefig('plot_svg.svg')"
   ]
  },
  {
   "cell_type": "code",
   "execution_count": null,
   "metadata": {},
   "outputs": [],
   "source": []
  }
 ],
 "metadata": {
  "kernelspec": {
   "display_name": "Python 3",
   "language": "python",
   "name": "python3"
  },
  "language_info": {
   "codemirror_mode": {
    "name": "ipython",
    "version": 3
   },
   "file_extension": ".py",
   "mimetype": "text/x-python",
   "name": "python",
   "nbconvert_exporter": "python",
   "pygments_lexer": "ipython3",
   "version": "3.8.8"
  },
  "toc": {
   "base_numbering": 1,
   "nav_menu": {},
   "number_sections": true,
   "sideBar": true,
   "skip_h1_title": false,
   "title_cell": "Table of Contents",
   "title_sidebar": "Contents",
   "toc_cell": false,
   "toc_position": {},
   "toc_section_display": true,
   "toc_window_display": false
  }
 },
 "nbformat": 4,
 "nbformat_minor": 4
}
